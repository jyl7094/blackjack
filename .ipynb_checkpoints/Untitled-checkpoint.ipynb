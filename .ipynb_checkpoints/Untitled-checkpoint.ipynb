{
 "cells": [
  {
   "cell_type": "code",
   "execution_count": null,
   "metadata": {},
   "outputs": [],
   "source": [
    "from random import shuffle\n",
    "\n",
    "class Deck:\n",
    "    _suits = ('Clubs', 'Diamonds', 'Hearts', 'Spades')\n",
    "    _ranks = ('Ace', 'Two', 'Three', 'Four', 'Five', 'Six', 'Seven', 'Eight', 'Nine', 'Ten', 'Jack', 'Queen', 'King')\n",
    "    def __init__(self):\n",
    "        self.cards = []\n",
    "        for suit in Deck._suits:\n",
    "            for rank in Deck._ranks:\n",
    "                self.cards.append(Card(suit, rank))\n",
    "        shuffle(self.cards)\n",
    "    \n",
    "    def remove_top(self):\n",
    "        return self._cards.pop()"
   ]
  },
  {
   "cell_type": "code",
   "execution_count": null,
   "metadata": {},
   "outputs": [],
   "source": [
    "class Card:\n",
    "    def __init__(self, suit, rank):\n",
    "        self._suit = suit\n",
    "        self._rank = rank"
   ]
  },
  {
   "cell_type": "code",
   "execution_count": null,
   "metadata": {},
   "outputs": [],
   "source": [
    "class CardPlayer:\n",
    "    def __init__(self):\n",
    "        self._hands = []\n",
    "        \n",
    "    def draw(self, card):\n",
    "        self._hands.append(card)"
   ]
  },
  {
   "cell_type": "code",
   "execution_count": null,
   "metadata": {},
   "outputs": [],
   "source": [
    "class Player(CardPlayer):\n",
    "    def __init__(self, chips):\n",
    "        self._hands = []\n",
    "        self._chips = chips\n",
    "        \n",
    "    def draw(self, card):\n",
    "        self._hands.append(card)"
   ]
  },
  {
   "cell_type": "code",
   "execution_count": null,
   "metadata": {},
   "outputs": [],
   "source": [
    "class Dealer(Ca):\n",
    "    def __init__(self):\n",
    "        self._hands = []\n",
    "        \n",
    "    def draw(self, card):\n",
    "        self_."
   ]
  },
  {
   "cell_type": "code",
   "execution_count": null,
   "metadata": {},
   "outputs": [],
   "source": [
    "class C"
   ]
  },
  {
   "cell_type": "code",
   "execution_count": 6,
   "metadata": {},
   "outputs": [
    {
     "name": "stdout",
     "output_type": "stream",
     "text": [
      "started\n",
      "Enter 'Y' or 'y' to keep playing, or 'N' or 'n' to exit: n\n",
      "Thank you for playing. Goodbye!\n"
     ]
    }
   ],
   "source": [
    "def main():\n",
    "    play = True\n",
    "    while play:\n",
    "        deck = Deck()\n",
    "\n",
    "\n",
    "\n",
    "        print('started')\n",
    "        \n",
    "\n",
    "\n",
    "\n",
    "\n",
    "\n",
    "        while True:\n",
    "            option = input('Enter \\'Y\\' or \\'y\\' to keep playing, or \\'N\\' or \\'n\\' to exit: ')\n",
    "            if option.upper() == 'Y':\n",
    "                break\n",
    "            elif option.upper() == 'N':\n",
    "                play = False\n",
    "                print('Thank you for playing. Goodbye!')\n",
    "                break\n",
    "            else:\n",
    "                print('Warning: Invalid Input.')\n",
    "\n",
    "if __name__ == '__main__':\n",
    "    main()\n"
   ]
  },
  {
   "cell_type": "code",
   "execution_count": null,
   "metadata": {},
   "outputs": [],
   "source": []
  }
 ],
 "metadata": {
  "kernelspec": {
   "display_name": "Python 3",
   "language": "python",
   "name": "python3"
  },
  "language_info": {
   "codemirror_mode": {
    "name": "ipython",
    "version": 3
   },
   "file_extension": ".py",
   "mimetype": "text/x-python",
   "name": "python",
   "nbconvert_exporter": "python",
   "pygments_lexer": "ipython3",
   "version": "3.8.3"
  }
 },
 "nbformat": 4,
 "nbformat_minor": 4
}
